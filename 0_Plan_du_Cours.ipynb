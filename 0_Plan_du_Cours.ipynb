{
  "nbformat": 4,
  "nbformat_minor": 0,
  "metadata": {
    "colab": {
      "provenance": []
    },
    "kernelspec": {
      "display_name": "Python 3",
      "language": "python",
      "name": "python3"
    },
    "language_info": {
      "codemirror_mode": {
        "name": "ipython",
        "version": 3
      },
      "file_extension": ".py",
      "mimetype": "text/x-python",
      "name": "python",
      "nbconvert_exporter": "python",
      "pygments_lexer": "ipython3",
      "version": "3.8.5"
    }
  },
  "cells": [
    {
      "cell_type": "markdown",
      "metadata": {
        "id": "5C3-ZAGCITE1"
      },
      "source": [
        "<html> <img style=\"float:center; margin: 0px 0px 0px 0px;\" src=\"https://docs.google.com/uc? export=download&id=1AsKm6Gzjuvqp9RmXxjTHdbTr4eo7kHsp\" width=\"120\" align=\"left\"/> </html>\n",
        "<h6>Faculté des Sciences de Monastir </h6>\n",
        "<h6>Département des Sciences de l’Informatique </h6>\n",
        "\n",
        "<h6>Enseignant: Jaafar CHAAOURI </h6>"
      ]
    },
    {
      "cell_type": "markdown",
      "metadata": {
        "id": "Mg76dUISIdyF"
      },
      "source": [
        "<figure>\n",
        "<center>\n",
        "<img src='https://docs.google.com/uc?export=download&id=1BmLEthy7KCNsnVFviFKX77zLmFhc47XZ' align='right'/>\n",
        "    \n",
        "\n",
        "\n",
        "<h1><center> <b>Programmation Scientifique avec Python</b> </ </center></h1>\n",
        "\n"
      ]
    },
    {
      "cell_type": "markdown",
      "metadata": {
        "id": "Y3ab4tFZVCm9"
      },
      "source": [
        "# **Révision : Notions de base**"
      ]
    },
    {
      "cell_type": "markdown",
      "metadata": {
        "id": "wCTrKPI8yalv"
      },
      "source": [
        "- Opérations : (d'entrée sortie, arithmétiques, relationnelles et logiques)\n",
        "- Types simples\n",
        "- Structures de contrôle\n",
        "- Les itérables\n",
        "- Fonctions utiles pour les itérables :\n",
        "- Les sous programmes\n",
        "- La récursivité\n",
        "- Gestion des exceptions\n",
        "- Gestion des fichiers textes\n",
        "- Notions de complexité\n",
        "\n",
        "\n",
        "\n"
      ]
    },
    {
      "cell_type": "markdown",
      "source": [
        "\n",
        "---\n"
      ],
      "metadata": {
        "id": "03qpOMwhm6Z_"
      }
    },
    {
      "cell_type": "markdown",
      "metadata": {
        "id": "C8_knpoyhxul"
      },
      "source": [
        "\n",
        "\n",
        "\n",
        "# **1ère Partie:** **Programation orientée objet en Python**\n",
        "    \n",
        "\n"
      ]
    },
    {
      "cell_type": "markdown",
      "metadata": {
        "id": "bJGQe03Rbk-n"
      },
      "source": [
        "- Introduction\n",
        "- Classes et objets\n",
        "    - Méthodes\n",
        "    - Attributs :\n",
        "- Dérivation / Héritage :\n",
        "- Ploymorphisme et surcharge\n",
        "- Exercices :\n",
        "- Application : Pile(Stack) & File(Queue)"
      ]
    },
    {
      "cell_type": "markdown",
      "metadata": {
        "id": "yjiW8-s8N3kK"
      },
      "source": [
        "---"
      ]
    },
    {
      "cell_type": "markdown",
      "metadata": {
        "id": "2Mz5m8Caxtvh"
      },
      "source": [
        "# **2ème Partie : Simulation numérique avec Python**\n",
        "\n"
      ]
    },
    {
      "cell_type": "markdown",
      "metadata": {
        "id": "nCOsEicXaLM6"
      },
      "source": [
        "### **NumPy**\n",
        "\n",
        "\n",
        "\n",
        "<img src='https://docs.google.com/uc?export=download&id=1eadWg0PIG72DraXP5J7s_P9xKWQ0xini' align='right'/>\n",
        "    \n",
        "\n",
        "\n",
        "1. Démarrer avec Numpy\n",
        "2. Les fonctions fabriques d' ndarray\n",
        "3. Avantages des ndarrays par rapport aux itérables natifs :\n",
        "4. Les propriétés \"interessantes\" d'un ndarray :\n",
        "5. Méthodes prédéfinies sur les ndarray:\n",
        "6. Algèbre linéaire avec numpy\n"
      ]
    },
    {
      "cell_type": "markdown",
      "metadata": {
        "id": "bIeBB6pmxt1u"
      },
      "source": [
        "### **SciPy** (calcul scientifique avec python)\n",
        "\n"
      ]
    },
    {
      "cell_type": "markdown",
      "metadata": {
        "id": "cGMZ3rUTsNDk"
      },
      "source": [
        "\n",
        " 1. Fonctions d'intégration numérique `scipy.integrate`\n",
        " 2. Résolution d'équations différentielles ordinaires : scipy.integrate.odeint\n",
        " 3. Recherche de racine et optimisation: scipy.optimize\n",
        " 4. Initiation au traitement des images numériques scipy.ndimage\n",
        " 5. Problèmes d’interpolations (Interpolation de Lagrange)  scipy.interpolate\n",
        "\n",
        "\n"
      ]
    },
    {
      "cell_type": "markdown",
      "metadata": {
        "id": "NfdboW-5N6fP"
      },
      "source": [
        "---"
      ]
    },
    {
      "cell_type": "markdown",
      "metadata": {
        "id": "MZPTuFFEIcQm"
      },
      "source": [
        "# **3ème Partie : Les bases de données avec Python**\n",
        "    \n"
      ]
    },
    {
      "cell_type": "markdown",
      "metadata": {
        "id": "q--OSf5yynhh"
      },
      "source": [
        "\n",
        "1. Concepts fondamentaux\n",
        "2. LDD : Langage de description des données\n",
        "3. Algèbre relationnelle\n",
        "4. LMD : Langage de manipulation de données\n",
        "5. Accès aux données : module SQlite3 de Python\n",
        "6. Exemples et Exercices d'application"
      ]
    }
  ]
}